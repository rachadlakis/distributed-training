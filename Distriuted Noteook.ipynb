{
  "cells": [
    {
      "cell_type": "code",
      "execution_count": null,
      "id": "4af0b4be",
      "metadata": {},
      "outputs": [],
      "source": [
        "# uv init\n",
        "# uv venv torch_env\n",
        "# uv venv torch_gpu --python=3.13\n",
        "# uv venv torch_gpu --python \"C:\\Users\\user\\AppData\\Local\\Programs\\Python\\Python313\\python.exe\"\n",
        "\n",
        "# torch_env\\Scripts\\activate\n",
        "# uv add matplotlib pycocotools opencv-python Pillow torch ultralytics rfdetr pyyaml ipykernel\n",
        "\n",
        "## Had to use pip, uv still have some issues with GPU \n",
        "# uv pip install torch torchvision torchaudio --index-url https://download.pytorch.org/whl/cu121\n",
        "# uv pip install ultralytics\n",
        "# uv pip install rfdetr"
      ]
    },
    {
      "cell_type": "markdown",
      "id": "xp9JmCISJF_j",
      "metadata": {
        "id": "xp9JmCISJF_j"
      },
      "source": [
        "[![Open In Colab](https://colab.research.google.com/assets/colab-badge.svg)](\n",
        "https://colab.research.google.com/github/CMU-IDeeL/CMU-IDeeL.github.io/blob/master/F25/document/Recitation_0_Series/0.23/0_23_Distributed_Training.ipynb)"
      ]
    },
    {
      "cell_type": "markdown",
      "id": "dd9b8ef0-5d69-44b7-8da9-10ec7306dd4d",
      "metadata": {
        "id": "dd9b8ef0-5d69-44b7-8da9-10ec7306dd4d"
      },
      "source": [
        "# DataParallel Notebook\n",
        "-------------------------\n",
        "Inspired by: [Pytorch Data Parallelism Tutorial](https://docs.pytorch.org/tutorials/beginner/blitz/data_parallel_tutorial.html)"
      ]
    },
    {
      "cell_type": "markdown",
      "id": "34c98ebd",
      "metadata": {
        "id": "34c98ebd",
        "lines_to_next_cell": 2
      },
      "source": [
        "# Imports and Initial Setup\n",
        "------------------------------------\n",
        "This cell imports the necessary PyTorch libraries."
      ]
    },
    {
      "cell_type": "code",
      "execution_count": null,
      "id": "6db1e4d5",
      "metadata": {
        "execution": {
          "iopub.execute_input": "2025-06-18T14:30:01.357274Z",
          "iopub.status.busy": "2025-06-18T14:30:01.356521Z",
          "iopub.status.idle": "2025-06-18T14:30:01.360775Z",
          "shell.execute_reply": "2025-06-18T14:30:01.359986Z",
          "shell.execute_reply.started": "2025-06-18T14:30:01.357249Z"
        },
        "id": "6db1e4d5",
        "trusted": true
      },
      "outputs": [],
      "source": [
        "import torch\n",
        "import torch.nn as nn\n",
        "from torch.utils.data import TensorDataset, DataLoader"
      ]
    },
    {
      "cell_type": "code",
      "execution_count": null,
      "id": "d6af9aca",
      "metadata": {
        "execution": {
          "iopub.execute_input": "2025-06-18T14:30:21.610011Z",
          "iopub.status.busy": "2025-06-18T14:30:21.609490Z",
          "iopub.status.idle": "2025-06-18T14:30:21.615075Z",
          "shell.execute_reply": "2025-06-18T14:30:21.614246Z",
          "shell.execute_reply.started": "2025-06-18T14:30:21.609987Z"
        },
        "id": "d6af9aca",
        "lines_to_next_cell": 1,
        "outputId": "e0ebb557-e0c2-461c-fc16-169c04cb816d",
        "trusted": true
      },
      "outputs": [
        {
          "name": "stdout",
          "output_type": "stream",
          "text": [
            "PyTorch Version: 2.6.0+cu124\n",
            "------------------------------\n",
            "Found 2 GPUs.\n"
          ]
        }
      ],
      "source": [
        "print(f\"PyTorch Version: {torch.__version__}\")\n",
        "print(\"-\" * 30)\n",
        "\n",
        "# Check for available GPUs\n",
        "if torch.cuda.is_available():\n",
        "    num_gpus = torch.cuda.device_count()\n",
        "    print(f\"Found {num_gpus} GPUs.\")\n",
        "    # Set the primary device\n",
        "    device = torch.device(\"cuda:0\")\n",
        "else:\n",
        "    num_gpus = 0\n",
        "    print(\"No GPUs found. Running on CPU.\")\n",
        "    device = torch.device(\"cpu\")"
      ]
    },
    {
      "cell_type": "markdown",
      "id": "0c00bc52-470a-4526-826e-2216ff467778",
      "metadata": {
        "id": "0c00bc52-470a-4526-826e-2216ff467778"
      },
      "source": [
        "# Data Parallel\n",
        "-----------------------------\n",
        "Source: [DataParallel vs. DistributedDataParallel in PyTorch: What’s the Difference?](https://medium.com/@mlshark/dataparallel-vs-distributeddataparallel-in-pytorch-whats-the-difference-0af10bb43bc7)"
      ]
    },
    {
      "cell_type": "markdown",
      "id": "b7715eb1",
      "metadata": {
        "id": "b7715eb1"
      },
      "source": [
        "# Define a Simple Model\n",
        "-----------------------------\n",
        "We'll create a basic neural network for this demonstration.\n",
        "DataParallel will replicate this model on each available GPU."
      ]
    },
    {
      "cell_type": "code",
      "execution_count": null,
      "id": "137aa2ce",
      "metadata": {
        "execution": {
          "iopub.execute_input": "2025-06-18T14:33:51.487053Z",
          "iopub.status.busy": "2025-06-18T14:33:51.486118Z",
          "iopub.status.idle": "2025-06-18T14:33:51.491916Z",
          "shell.execute_reply": "2025-06-18T14:33:51.491377Z",
          "shell.execute_reply.started": "2025-06-18T14:33:51.487021Z"
        },
        "id": "137aa2ce",
        "trusted": true
      },
      "outputs": [],
      "source": [
        "class SimpleModel(nn.Module):\n",
        "    def __init__(self, input_size, output_size):\n",
        "        super(SimpleModel, self).__init__()\n",
        "        self.fc1 = nn.Linear(input_size, 128)\n",
        "        self.relu = nn.ReLU()\n",
        "        self.fc2 = nn.Linear(128, output_size)\n",
        "\n",
        "    def forward(self, x, debug=False):\n",
        "        out = self.fc1(x)\n",
        "        out = self.relu(out)\n",
        "        out = self.fc2(out)\n",
        "        if debug:\n",
        "            print(\"\\tInside the Model: input size\", x.size(), \"output size\", out.size())\n",
        "        return out"
      ]
    },
    {
      "cell_type": "markdown",
      "id": "66d4b247",
      "metadata": {
        "id": "66d4b247",
        "lines_to_next_cell": 2
      },
      "source": [
        "# Data Preparation and Training Loop\n",
        "------------------------------------------\n",
        "This is the main part where we wrap our model with DataParallel\n",
        "and run the training process."
      ]
    },
    {
      "cell_type": "markdown",
      "id": "84a4dd7e",
      "metadata": {
        "id": "84a4dd7e",
        "lines_to_next_cell": 0
      },
      "source": [
        "## 1. Hyperparameters and Data"
      ]
    },
    {
      "cell_type": "code",
      "execution_count": null,
      "id": "113e6748",
      "metadata": {
        "execution": {
          "iopub.execute_input": "2025-06-18T14:35:14.851088Z",
          "iopub.status.busy": "2025-06-18T14:35:14.850315Z",
          "iopub.status.idle": "2025-06-18T14:35:14.924285Z",
          "shell.execute_reply": "2025-06-18T14:35:14.923505Z",
          "shell.execute_reply.started": "2025-06-18T14:35:14.851066Z"
        },
        "id": "113e6748",
        "trusted": true
      },
      "outputs": [],
      "source": [
        "input_size = 784\n",
        "output_size = 10\n",
        "batch_size = 256  # A larger batch size helps utilize multiple GPUs\n",
        "learning_rate = 0.01\n",
        "num_epochs = 20\n",
        "\n",
        "# Create dummy data\n",
        "# We create a dataset of 10000 samples\n",
        "inputs = torch.randn(10000, input_size)\n",
        "targets = torch.randint(0, output_size, (10000,))\n",
        "\n",
        "# Use DataLoader for batching\n",
        "dataset = TensorDataset(inputs, targets)\n",
        "# The batch size will be split across GPUs. If you have 2 GPUs,\n",
        "# each will process batch_size / 2 samples.\n",
        "data_loader = DataLoader(dataset, batch_size=batch_size, shuffle=True)"
      ]
    },
    {
      "cell_type": "markdown",
      "id": "23f49f33",
      "metadata": {
        "id": "23f49f33",
        "lines_to_next_cell": 0
      },
      "source": [
        "## 2. Initialize and Wrap the Model\n",
        "Instantiate the model"
      ]
    },
    {
      "cell_type": "code",
      "execution_count": null,
      "id": "86c5fc36",
      "metadata": {
        "execution": {
          "iopub.execute_input": "2025-06-18T14:36:20.905451Z",
          "iopub.status.busy": "2025-06-18T14:36:20.904773Z",
          "iopub.status.idle": "2025-06-18T14:36:20.913077Z",
          "shell.execute_reply": "2025-06-18T14:36:20.912464Z",
          "shell.execute_reply.started": "2025-06-18T14:36:20.905423Z"
        },
        "id": "86c5fc36",
        "outputId": "4ac456d3-b301-40da-f473-246346a973f9",
        "trusted": true
      },
      "outputs": [
        {
          "name": "stdout",
          "output_type": "stream",
          "text": [
            "Using 2 GPUs for training!\n"
          ]
        },
        {
          "data": {
            "text/plain": [
              "DataParallel(\n",
              "  (module): SimpleModel(\n",
              "    (fc1): Linear(in_features=784, out_features=128, bias=True)\n",
              "    (relu): ReLU()\n",
              "    (fc2): Linear(in_features=128, out_features=10, bias=True)\n",
              "  )\n",
              ")"
            ]
          },
          "execution_count": 23,
          "metadata": {},
          "output_type": "execute_result"
        }
      ],
      "source": [
        "model = SimpleModel(input_size, output_size)\n",
        "\n",
        "# IMPORTANT: Wrap the model with nn.DataParallel\n",
        "# This is the key step for data parallelism.\n",
        "# If multiple GPUs are available, this wrapper will handle the data distribution.\n",
        "if num_gpus > 1:\n",
        "    print(f\"Using {num_gpus} GPUs for training!\")\n",
        "    device_ids = list(range(num_gpus))  # Explicitly specify all available GPUs\n",
        "    model = nn.DataParallel(model, device_ids=device_ids)\n",
        "else:\n",
        "    print(\"Training on a single device (CPU or 1 GPU).\")\n",
        "\n",
        "# Move the model to the primary device. DataParallel will handle the rest.\n",
        "model.to(device)"
      ]
    },
    {
      "cell_type": "markdown",
      "id": "577fc2b9",
      "metadata": {
        "id": "577fc2b9",
        "lines_to_next_cell": 0
      },
      "source": [
        "## 3. Loss and Optimizer"
      ]
    },
    {
      "cell_type": "code",
      "execution_count": null,
      "id": "95b25c7b",
      "metadata": {
        "execution": {
          "iopub.execute_input": "2025-06-18T14:36:30.917424Z",
          "iopub.status.busy": "2025-06-18T14:36:30.917136Z",
          "iopub.status.idle": "2025-06-18T14:36:30.921335Z",
          "shell.execute_reply": "2025-06-18T14:36:30.920770Z",
          "shell.execute_reply.started": "2025-06-18T14:36:30.917405Z"
        },
        "id": "95b25c7b",
        "trusted": true
      },
      "outputs": [],
      "source": [
        "criterion = nn.CrossEntropyLoss()\n",
        "optimizer = torch.optim.SGD(model.parameters(), lr=learning_rate)"
      ]
    },
    {
      "cell_type": "markdown",
      "id": "5ceddd76",
      "metadata": {
        "id": "5ceddd76",
        "lines_to_next_cell": 0
      },
      "source": [
        "## 4. Training Loop"
      ]
    },
    {
      "cell_type": "code",
      "execution_count": null,
      "id": "96086fd4",
      "metadata": {
        "execution": {
          "iopub.execute_input": "2025-06-18T14:37:56.528430Z",
          "iopub.status.busy": "2025-06-18T14:37:56.527863Z",
          "iopub.status.idle": "2025-06-18T14:38:00.899463Z",
          "shell.execute_reply": "2025-06-18T14:38:00.898449Z",
          "shell.execute_reply.started": "2025-06-18T14:37:56.528408Z"
        },
        "id": "96086fd4",
        "outputId": "ec2d2032-7f21-46ee-c7ab-c913831b14e3",
        "trusted": true
      },
      "outputs": [
        {
          "name": "stdout",
          "output_type": "stream",
          "text": [
            "\n",
            "Starting training...\n",
            "\tInside the Model: input size torch.Size([128, 784]) output size torch.Size([128, 10])\n",
            "\tInside the Model: input size torch.Size([128, 784]) output size torch.Size([128, 10])\n",
            "Outside: input size torch.Size([256, 784]) output_size torch.Size([256, 10])\n",
            "Epoch [1/20], Loss: 2.3282\n",
            "Epoch [2/20], Loss: 2.3176\n",
            "Epoch [3/20], Loss: 2.3090\n",
            "Epoch [4/20], Loss: 2.3036\n",
            "Epoch [5/20], Loss: 2.2976\n",
            "Epoch [6/20], Loss: 2.2932\n",
            "Epoch [7/20], Loss: 2.2872\n",
            "Epoch [8/20], Loss: 2.2796\n",
            "Epoch [9/20], Loss: 2.2780\n",
            "Epoch [10/20], Loss: 2.2728\n",
            "Epoch [11/20], Loss: 2.2654\n",
            "Epoch [12/20], Loss: 2.2600\n",
            "Epoch [13/20], Loss: 2.2561\n",
            "Epoch [14/20], Loss: 2.2523\n",
            "Epoch [15/20], Loss: 2.2479\n",
            "Epoch [16/20], Loss: 2.2409\n",
            "Epoch [17/20], Loss: 2.2359\n",
            "Epoch [18/20], Loss: 2.2329\n",
            "Epoch [19/20], Loss: 2.2275\n",
            "Epoch [20/20], Loss: 2.2236\n",
            "\n",
            "Training finished!\n"
          ]
        }
      ],
      "source": [
        "print(\"\\nStarting training...\")\n",
        "\n",
        "for epoch in range(num_epochs):\n",
        "    total_loss = 0\n",
        "    for i, (batch_inputs, batch_targets) in enumerate(data_loader):\n",
        "        # Move data to the primary device. DataParallel will scatter it.\n",
        "        batch_inputs = batch_inputs.to(device)\n",
        "        batch_targets = batch_targets.to(device)\n",
        "\n",
        "        # Forward pass\n",
        "        # DataParallel automatically splits the batch, sends it to the GPUs,\n",
        "        # executes the forward pass, and gathers the outputs on the primary device.\n",
        "        debug = epoch == 0 and i == 0\n",
        "        outputs = model(batch_inputs, debug=debug)\n",
        "        if debug:\n",
        "            print(\"Outside: input size\", batch_inputs.size(), \"output_size\", outputs.size())\n",
        "        loss = criterion(outputs, batch_targets)\n",
        "\n",
        "        # Backward and optimize\n",
        "        # The loss is computed on the primary GPU. The backward pass calculates\n",
        "        # gradients on each GPU, which are then summed on the primary GPU.\n",
        "        optimizer.zero_grad()\n",
        "        loss.backward()\n",
        "        optimizer.step()\n",
        "\n",
        "        total_loss += loss.item()\n",
        "\n",
        "    avg_loss = total_loss / len(data_loader)\n",
        "    print(f'Epoch [{epoch+1}/{num_epochs}], Loss: {avg_loss:.4f}')\n",
        "\n",
        "print(\"\\nTraining finished!\")\n",
        "\n"
      ]
    },
    {
      "cell_type": "markdown",
      "id": "00949f04",
      "metadata": {
        "id": "00949f04",
        "lines_to_next_cell": 0
      },
      "source": [
        "## 5. Accessing the Original Model\n",
        "If you need to save the model's state dict or access the original model\n",
        "without the DataParallel wrapper, you need to use .module"
      ]
    },
    {
      "cell_type": "code",
      "execution_count": null,
      "id": "5123ced2",
      "metadata": {
        "execution": {
          "iopub.execute_input": "2025-06-18T14:16:32.162022Z",
          "iopub.status.busy": "2025-06-18T14:16:32.161780Z",
          "iopub.status.idle": "2025-06-18T14:16:32.169906Z",
          "shell.execute_reply": "2025-06-18T14:16:32.169166Z",
          "shell.execute_reply.started": "2025-06-18T14:16:32.162000Z"
        },
        "id": "5123ced2",
        "outputId": "1002f67a-79d6-4fe4-cfc6-35c777fd9538",
        "trusted": true
      },
      "outputs": [
        {
          "name": "stdout",
          "output_type": "stream",
          "text": [
            "\n",
            "Model was wrapped in DataParallel. Accessing the original model via .module\n"
          ]
        }
      ],
      "source": [
        "if isinstance(model, nn.DataParallel):\n",
        "    original_model = model.module\n",
        "    print(\"\\nModel was wrapped in DataParallel. Accessing the original model via .module\")\n",
        "    torch.save(original_model.state_dict(), 'model_state.pth')\n",
        "else:\n",
        "    original_model = model\n",
        "    print(\"\\nModel was not wrapped. Saving the model directly.\")\n",
        "    torch.save(original_model.state_dict(), 'model_state.pth')"
      ]
    }
  ],
  "metadata": {
    "colab": {
      "provenance": []
    },
    "jupytext": {
      "cell_metadata_filter": "-all",
      "main_language": "python",
      "notebook_metadata_filter": "-all"
    },
    "kaggle": {
      "accelerator": "nvidiaTeslaT4",
      "dataSources": [],
      "dockerImageVersionId": 31041,
      "isGpuEnabled": true,
      "isInternetEnabled": true,
      "language": "python",
      "sourceType": "notebook"
    },
    "kernelspec": {
      "display_name": "Python 3",
      "language": "python",
      "name": "python3"
    },
    "language_info": {
      "codemirror_mode": {
        "name": "ipython",
        "version": 3
      },
      "file_extension": ".py",
      "mimetype": "text/x-python",
      "name": "python",
      "nbconvert_exporter": "python",
      "pygments_lexer": "ipython3",
      "version": "3.11.11"
    }
  },
  "nbformat": 4,
  "nbformat_minor": 5
}
